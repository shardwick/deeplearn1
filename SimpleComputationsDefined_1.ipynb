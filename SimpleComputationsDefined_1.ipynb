{
 "cells": [
  {
   "cell_type": "code",
   "execution_count": 1,
   "metadata": {},
   "outputs": [],
   "source": [
    "import tensorflow as tf"
   ]
  },
  {
   "cell_type": "code",
   "execution_count": 2,
   "metadata": {},
   "outputs": [],
   "source": [
    "# creating constants in TF to hold specific values\n",
    "a = tf.constant(1)\n",
    "b = tf.constant(2)"
   ]
  },
  {
   "cell_type": "code",
   "execution_count": 3,
   "metadata": {},
   "outputs": [],
   "source": [
    "#  add, multiply and compute \n",
    "c = a + b\n",
    "d = a * b"
   ]
  },
  {
   "cell_type": "code",
   "execution_count": 4,
   "metadata": {},
   "outputs": [],
   "source": [
    "# TF numbers are stored in \"tensors\",\n",
    "#  multidimensional arrays\n",
    "\n",
    "\n",
    "V1 = tf.constant([1., 2.])   # Vector, 1-dimensional\n",
    "V2 = tf.constant([3., 4.])   # Vector, 1-dimensional\n",
    "M = tf.constant([[1., 2.]])             # Matrix, 2d\n",
    "N = tf.constant([[1., 2.],[3.,4.]])     # Matrix, 2d\n",
    "K = tf.constant([[[1., 2.],[3.,4.]]])   # Tensor, 3d+\n"
   ]
  },
  {
   "cell_type": "code",
   "execution_count": 5,
   "metadata": {},
   "outputs": [],
   "source": [
    "#computing on tensors\n",
    "\n",
    "V3 = V1 + V2"
   ]
  },
  {
   "cell_type": "code",
   "execution_count": 6,
   "metadata": {},
   "outputs": [],
   "source": [
    "# Operations are element-wise by default\n",
    "M2 = M * M"
   ]
  },
  {
   "cell_type": "code",
   "execution_count": 7,
   "metadata": {},
   "outputs": [],
   "source": [
    "# True matrix multiplication requires a special call\n",
    "NN = tf.matmul(N,N)"
   ]
  },
  {
   "cell_type": "code",
   "execution_count": 8,
   "metadata": {},
   "outputs": [],
   "source": [
    "# The above code only defines a TF \"graph\".\n",
    "# Nothing has been computed yet\n",
    "#  first we must create a TF \"session\"\n",
    "sess = tf.Session()"
   ]
  },
  {
   "cell_type": "code",
   "execution_count": 9,
   "metadata": {},
   "outputs": [
    {
     "name": "stdout",
     "output_type": "stream",
     "text": [
      "NN is:\n",
      "[[ 7. 10.]\n",
      " [15. 22.]]\n"
     ]
    }
   ],
   "source": [
    "output = sess.run(NN)\n",
    "print(\"NN is:\")\n",
    "print(output)"
   ]
  },
  {
   "cell_type": "code",
   "execution_count": 10,
   "metadata": {},
   "outputs": [],
   "source": [
    "# to close your session\n",
    "sess.close()"
   ]
  },
  {
   "cell_type": "code",
   "execution_count": 11,
   "metadata": {},
   "outputs": [],
   "source": [
    "#interactive work\n",
    "sess = tf.InteractiveSession()"
   ]
  },
  {
   "cell_type": "code",
   "execution_count": 12,
   "metadata": {},
   "outputs": [
    {
     "name": "stdout",
     "output_type": "stream",
     "text": [
      "M2 is:\n",
      "[[1. 4.]]\n"
     ]
    }
   ],
   "source": [
    "# get value f node M2\n",
    "print(\"M2 is:\")\n",
    "print(M2.eval())"
   ]
  },
  {
   "cell_type": "code",
   "execution_count": 13,
   "metadata": {},
   "outputs": [],
   "source": [
    "# TF \"variables\" can change value,\n",
    "# useful for updating model weights\n",
    "W = tf.Variable(0, name=\"weight\")"
   ]
  },
  {
   "cell_type": "code",
   "execution_count": 14,
   "metadata": {},
   "outputs": [],
   "source": [
    "# initialize all variables to put value in variable\n",
    "init_op = tf.global_variables_initializer()\n",
    "sess.run(init_op)"
   ]
  },
  {
   "cell_type": "code",
   "execution_count": 16,
   "metadata": {},
   "outputs": [
    {
     "name": "stdout",
     "output_type": "stream",
     "text": [
      "W is:\n",
      "0\n"
     ]
    }
   ],
   "source": [
    "#verify w has value\n",
    "\n",
    "print(\"W is:\")\n",
    "print(W.eval())"
   ]
  },
  {
   "cell_type": "code",
   "execution_count": 17,
   "metadata": {},
   "outputs": [
    {
     "name": "stdout",
     "output_type": "stream",
     "text": [
      "WARNING:tensorflow:Variable += will be deprecated. Use variable.assign_add if you want assignment to the variable value or 'x = x + y' if you want a new python Tensor object.\n",
      "W after adding a:\n",
      "1\n"
     ]
    }
   ],
   "source": [
    "W += a\n",
    "print(\"W after adding a:\")\n",
    "print(W.eval())"
   ]
  },
  {
   "cell_type": "code",
   "execution_count": 18,
   "metadata": {},
   "outputs": [
    {
     "name": "stdout",
     "output_type": "stream",
     "text": [
      "W after adding a again:\n",
      "2\n"
     ]
    }
   ],
   "source": [
    "W += a\n",
    "print(\"W after adding a again:\")\n",
    "print(W.eval())"
   ]
  },
  {
   "cell_type": "code",
   "execution_count": 19,
   "metadata": {},
   "outputs": [],
   "source": [
    "# reutrn or supply arbitratry nodes\n",
    "#first define 3\n",
    "E = d + b # 1*2 + 2 = 4"
   ]
  },
  {
   "cell_type": "code",
   "execution_count": 20,
   "metadata": {},
   "outputs": [
    {
     "name": "stdout",
     "output_type": "stream",
     "text": [
      "E as defined:\n",
      "4\n"
     ]
    }
   ],
   "source": [
    "print(\"E as defined:\")\n",
    "print(E.eval())"
   ]
  },
  {
   "cell_type": "code",
   "execution_count": 21,
   "metadata": {},
   "outputs": [
    {
     "name": "stdout",
     "output_type": "stream",
     "text": [
      "E and d:\n",
      "[4, 2]\n"
     ]
    }
   ],
   "source": [
    "print(\"E and d:\")\n",
    "print(sess.run([E,d]))"
   ]
  },
  {
   "cell_type": "code",
   "execution_count": 22,
   "metadata": {},
   "outputs": [
    {
     "name": "stdout",
     "output_type": "stream",
     "text": [
      "E with custom d=4:\n",
      "6\n"
     ]
    }
   ],
   "source": [
    "# supply custom value for a node for testing/debugging using feed_dict\n",
    "print(\"E with custom d=4:\")\n",
    "print(sess.run(E, feed_dict = {d:4.}))"
   ]
  }
 ],
 "metadata": {
  "kernelspec": {
   "display_name": "p36workshop",
   "language": "python",
   "name": "p36workshop"
  },
  "language_info": {
   "codemirror_mode": {
    "name": "ipython",
    "version": 3
   },
   "file_extension": ".py",
   "mimetype": "text/x-python",
   "name": "python",
   "nbconvert_exporter": "python",
   "pygments_lexer": "ipython3",
   "version": "3.6.5"
  }
 },
 "nbformat": 4,
 "nbformat_minor": 1
}
