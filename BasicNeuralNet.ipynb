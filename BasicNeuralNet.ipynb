{
 "cells": [
  {
   "cell_type": "code",
   "execution_count": 1,
   "metadata": {},
   "outputs": [],
   "source": [
    "import tensorflow as tf\n",
    "import numpy as np\n",
    "import math"
   ]
  },
  {
   "cell_type": "code",
   "execution_count": 2,
   "metadata": {},
   "outputs": [],
   "source": [
    "sess = tf.InteractiveSession()"
   ]
  },
  {
   "cell_type": "code",
   "execution_count": 3,
   "metadata": {},
   "outputs": [],
   "source": [
    "# Some simple constants\n",
    "x1 = tf.Variable(tf.truncated_normal([5],\n",
    "                 mean=3, stddev=1./math.sqrt(5)))\n",
    "x2 = tf.Variable(tf.truncated_normal([5],\n",
    "                 mean=-1, stddev=1./math.sqrt(5)))\n",
    "x3 = tf.Variable(tf.truncated_normal([5],\n",
    "                 mean=0, stddev=1./math.sqrt(5)))\n",
    "\n",
    "sess.run(tf.global_variables_initializer())"
   ]
  },
  {
   "cell_type": "code",
   "execution_count": 4,
   "metadata": {},
   "outputs": [
    {
     "name": "stdout",
     "output_type": "stream",
     "text": [
      "[-1.3843977 -1.1147864 -1.646596  -0.5979958 -0.5030011]\n",
      "[1.9165571 1.2427487 2.7112782 0.357599  0.2530101]\n"
     ]
    }
   ],
   "source": [
    "# Squaring makes large values extreme (but positive)\n",
    "# Be careful if you have negative values\n",
    "sqx2 = x2 * x2\n",
    "print(x2.eval())\n",
    "print(sqx2.eval())"
   ]
  },
  {
   "cell_type": "code",
   "execution_count": 5,
   "metadata": {},
   "outputs": [
    {
     "name": "stdout",
     "output_type": "stream",
     "text": [
      "[2.2528636 3.866387  2.8785934 2.7533782 2.9464304]\n",
      "[0.81220216 1.3523204  1.0573018  1.0128286  1.0805944 ]\n"
     ]
    }
   ],
   "source": [
    "# Logarithm makes small values more pronounced (and negative)\n",
    "# Be careful that your algorithm can handle negative numbers\n",
    "logx1 = tf.log(x1)\n",
    "print(x1.eval())\n",
    "print(logx1.eval())"
   ]
  },
  {
   "cell_type": "code",
   "execution_count": 6,
   "metadata": {},
   "outputs": [
    {
     "name": "stdout",
     "output_type": "stream",
     "text": [
      "[ 0.13119844 -0.05276553 -0.57573414  0.5720304   0.50682586]\n",
      "[0.53275263 0.48681167 0.35991475 0.63923156 0.6240621 ]\n"
     ]
    }
   ],
   "source": [
    "# \"sigmoid\" is a common transformation in deep learning\n",
    "# Extreme values get flattened to +1 or 0\n",
    "# Inputs closer to zero stay similar, sigmoid(0) = 0.5\n",
    "sigx3 = tf.sigmoid(x3)\n",
    "print(x3.eval())\n",
    "print(sigx3.eval())"
   ]
  },
  {
   "cell_type": "code",
   "execution_count": 7,
   "metadata": {},
   "outputs": [
    {
     "name": "stdout",
     "output_type": "stream",
     "text": [
      "[0.31981993 0.31209084 0.2212714  0.31921357 0.23425284]\n",
      "[-0.26690024 -0.23812762 -0.03211142 -0.20859893 -0.17633913]\n",
      "[0.51322687 0.5184824  0.5471495  0.5276255  0.5144744 ]\n"
     ]
    }
   ],
   "source": [
    "# We linearly combine multiple inputs, then transform\n",
    "w1 = tf.constant(0.1)\n",
    "w2 = tf.constant(0.2)\n",
    "sess.run(tf.global_variables_initializer())\n",
    "n1 = tf.sigmoid(w1*x1 + w2*x2)\n",
    "print((w1*x1).eval())\n",
    "print((w2*x2).eval())\n",
    "print(n1.eval())"
   ]
  },
  {
   "cell_type": "code",
   "execution_count": null,
   "metadata": {},
   "outputs": [],
   "source": [
    "#Single hidden layer model "
   ]
  },
  {
   "cell_type": "code",
   "execution_count": null,
   "metadata": {},
   "outputs": [],
   "source": []
  },
  {
   "cell_type": "code",
   "execution_count": null,
   "metadata": {},
   "outputs": [],
   "source": []
  },
  {
   "cell_type": "code",
   "execution_count": null,
   "metadata": {},
   "outputs": [],
   "source": []
  },
  {
   "cell_type": "code",
   "execution_count": null,
   "metadata": {},
   "outputs": [],
   "source": []
  },
  {
   "cell_type": "code",
   "execution_count": null,
   "metadata": {},
   "outputs": [],
   "source": []
  },
  {
   "cell_type": "code",
   "execution_count": null,
   "metadata": {},
   "outputs": [],
   "source": []
  },
  {
   "cell_type": "code",
   "execution_count": null,
   "metadata": {},
   "outputs": [],
   "source": []
  }
 ],
 "metadata": {
  "kernelspec": {
   "display_name": "p36workshop",
   "language": "python",
   "name": "p36workshop"
  },
  "language_info": {
   "codemirror_mode": {
    "name": "ipython",
    "version": 3
   },
   "file_extension": ".py",
   "mimetype": "text/x-python",
   "name": "python",
   "nbconvert_exporter": "python",
   "pygments_lexer": "ipython3",
   "version": "3.6.5"
  }
 },
 "nbformat": 4,
 "nbformat_minor": 2
}
